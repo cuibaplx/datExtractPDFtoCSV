{
 "cells": [
  {
   "cell_type": "code",
   "execution_count": 56,
   "id": "1ad1c8ad",
   "metadata": {},
   "outputs": [],
   "source": [
    "import json\n",
    "import PyPDF2\n",
    "from os import listdir\n",
    "\n",
    "# Đổi tên 126 file sau thành tên ban đầu        \n",
    "def getFileFail(name, listfile):\n",
    "    for i in listfile:\n",
    "        if i[12:16] == name[4:8]: return i\n",
    "    return False\n",
    "\n",
    "list_files = listdir(r'C:\\Users\\an\\Desktop\\New folder')\n",
    "list_filesN = listdir(r'C:\\Users\\an\\Desktop\\NewFile')\n",
    "\n",
    "File = open('successFile1.txt').read().split('\\n')[:-1]\n",
    "FileFail = open('successFileFail.txt').read().split('\\n')[:-1]\n",
    "\n",
    "#biến chứa 126 file sau tên theo ban đầu\n",
    "newFile = []\n",
    "for i in FileFail:\n",
    "    newFile.append(getFileFail(i, list_files))"
   ]
  },
  {
   "cell_type": "code",
   "execution_count": 55,
   "id": "e20d6afb",
   "metadata": {},
   "outputs": [],
   "source": [
    "def timMang(mang, text):\n",
    "    if len(text) <= 0: return None\n",
    "    for i in range(len(mang)):\n",
    "        if len(''.join(mang[i:])) <= len(text):\n",
    "            return mang[i:]\n",
    "\n",
    "def timMangSau(mang, text):    \n",
    "    if len(text) <= 0: return None\n",
    "    for i in range(len(mang)):\n",
    "        if len(''.join(mang[:i])) == len(text):\n",
    "            return mang[:i]\n",
    "        if len(''.join(mang[:i])) >= len(text):\n",
    "            return mang[:i-1]\n"
   ]
  },
  {
   "cell_type": "code",
   "execution_count": 18,
   "id": "655d120c",
   "metadata": {},
   "outputs": [],
   "source": [
    "def getText1(text):                                                                                        \n",
    "    keys1 = ['kground']\n",
    "    for i in keys1:\n",
    "        array = text.split(i,1)\n",
    "        if len(array) == 2:\n",
    "            return array\n",
    "    return False\n",
    "\n",
    "def getText2(text):                                                                                   \n",
    "    keys1 = ['theactivesubstanceandtheformulatedproduct',\n",
    "             'heactivesubstanceandtheformulatedproduct',\n",
    "             'theidentityofthemicro-organismandthepropertiesoftheformulatedproduct',\n",
    "             'imazalilisthe','guazatineistheiso',\n",
    "             'theidentityofthemicroorganismandthepropertiesoftheformulatedproduct',\n",
    "            'theidentityofthemicroorganismsandthepropertiesoftheformulatedproducts',\n",
    "             'thepropertiesoftheformulatedproduct',\n",
    "            'theactivesubstanceandtheformluatedproduct']\n",
    "    for i in keys1:\n",
    "        array = text.split(i,1)\n",
    "        if len(array) == 2:\n",
    "            return array\n",
    "    return False"
   ]
  },
  {
   "cell_type": "markdown",
   "id": "2057877c",
   "metadata": {},
   "source": [
    "# Lấy dữ liệu background 420 file đầu"
   ]
  },
  {
   "cell_type": "code",
   "execution_count": 73,
   "id": "fed8c9c2",
   "metadata": {},
   "outputs": [],
   "source": [
    "f = open('background.txt')\n",
    "background = json.load(f)\n",
    "\n",
    "f1 = open('obackground.txt')\n",
    "obackground = json.load(f1)  \n",
    "\n",
    "for i in File:\n",
    "    check = getText1(background[i])\n",
    "    if not background[i].startswith('commissionregulation'):\n",
    "        check = getText1(background[i])\n",
    "        if check != False:\n",
    "            background[i] = check[1]\n",
    "            obackground[i] = timMang(obackground[i], check[1])\n",
    "\n",
    "for i in File:\n",
    "    if not background[i].startswith('commissionregulation'):\n",
    "        check = getText2(background[i])\n",
    "        if check != False:\n",
    "    #         print(i, background[i])\n",
    "    #         print('\\n')\n",
    "            newBackground.append(' '.join(timMangSau(obackground[i], check[0])))\n",
    "        else:\n",
    "            newBackground.append(' '.join(obackground[i]))\n",
    "    else:\n",
    "        newBackground.append(' '.join(obackground[i]))"
   ]
  },
  {
   "cell_type": "markdown",
   "id": "773ac265",
   "metadata": {},
   "source": [
    " # Lấy dữ liệu background 126 file sau"
   ]
  },
  {
   "cell_type": "code",
   "execution_count": 95,
   "id": "0546a724",
   "metadata": {},
   "outputs": [],
   "source": [
    "f = open('backgroundFail.txt')\n",
    "background = json.load(f)\n",
    "\n",
    "f1 = open('obackgroundFail.txt')\n",
    "obackground = json.load(f1)  \n",
    "\n",
    "newBackground = []\n",
    "\n",
    "for i in newFile:\n",
    "    if not background[i].startswith('commissionregulation'):\n",
    "        check = getText2(background[i])\n",
    "        if check != False:\n",
    "    #         print(i, background[i])\n",
    "    #         print('\\n')\n",
    "            newBackground.append(' '.join(timMangSau(obackground[i], check[0])))\n",
    "        else:\n",
    "            newBackground.append(' '.join(obackground[i]))\n",
    "    else:\n",
    "        newBackground.append(' '.join(obackground[i]))"
   ]
  },
  {
   "cell_type": "code",
   "execution_count": 106,
   "id": "04e80e11",
   "metadata": {},
   "outputs": [],
   "source": [
    "f = open('data.txt',)\n",
    "data = json.load(f)\n",
    "\n",
    "# data['background'] += newBackground\n",
    "\n",
    "# with open('data.txt', 'w') as convert_file:\n",
    "#      convert_file.write(json.dumps(data))"
   ]
  },
  {
   "cell_type": "code",
   "execution_count": null,
   "id": "0fff2066",
   "metadata": {},
   "outputs": [],
   "source": []
  }
 ],
 "metadata": {
  "kernelspec": {
   "display_name": "Python 3",
   "language": "python",
   "name": "python3"
  },
  "language_info": {
   "codemirror_mode": {
    "name": "ipython",
    "version": 3
   },
   "file_extension": ".py",
   "mimetype": "text/x-python",
   "name": "python",
   "nbconvert_exporter": "python",
   "pygments_lexer": "ipython3",
   "version": "3.7.0"
  }
 },
 "nbformat": 4,
 "nbformat_minor": 5
}
