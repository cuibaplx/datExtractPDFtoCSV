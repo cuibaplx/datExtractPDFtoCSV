{
 "cells": [
  {
   "cell_type": "code",
   "execution_count": 38,
   "id": "b8f826ed",
   "metadata": {},
   "outputs": [
    {
     "name": "stdout",
     "output_type": "stream",
     "text": [
      "126\n"
     ]
    }
   ],
   "source": [
    "import json\n",
    "import PyPDF2\n",
    "from os import listdir\n",
    "\n",
    "#đổi tên 126 fie sau thành tên ban đầu\n",
    "def getFileFail(name, listfile):\n",
    "    for i in listfile:\n",
    "        if i[12:16] == name[4:8]: return i\n",
    "    return False\n",
    "\n",
    "list_files = listdir(r'C:\\Users\\an\\Desktop\\New folder')\n",
    "\n",
    "File = open('successFile1.txt').read().split('\\n')[:-1]\n",
    "FileFail = open('successFileFail.txt').read().split('\\n')[:-1]\n",
    "\n",
    "#biến chứa 126 file sau sau khi đổi tên\n",
    "newFile = []\n",
    "for i in FileFail:\n",
    "    newFile.append(getFileFail(i, list_files))"
   ]
  },
  {
   "cell_type": "code",
   "execution_count": 2,
   "id": "eeb6c907",
   "metadata": {},
   "outputs": [],
   "source": [
    "def timMang(mang, text):\n",
    "    if len(text) <= 0: return None\n",
    "    for i in range(len(mang)):\n",
    "        if len(''.join(mang[i:])) <= len(text):\n",
    "            return mang[i:]\n",
    "\n",
    "def timMangSau(mang, text):    \n",
    "    if len(text) <= 0: return None\n",
    "    for i in range(len(mang)):\n",
    "        if len(''.join(mang[:i])) == len(text):\n",
    "            return mang[:i]\n",
    "        if len(''.join(mang[:i])) >= len(text):\n",
    "            return mang[:i-1]"
   ]
  },
  {
   "cell_type": "code",
   "execution_count": 47,
   "id": "411b7752",
   "metadata": {},
   "outputs": [],
   "source": [
    "def getText1(text):                                                                                              \n",
    "    keys1 = ['safetyauthority,anagencyoftheeuropeanunion','summary', 'ummary', 'mmary', 'parma,italy']\n",
    "    for i in keys1:\n",
    "        array = text.split(i,1)\n",
    "        if len(array) == 2:\n",
    "            return array\n",
    "    return False"
   ]
  },
  {
   "cell_type": "markdown",
   "id": "2fba18fd",
   "metadata": {},
   "source": [
    "# Lấy dữ liệu summary 420 file ban đầu"
   ]
  },
  {
   "cell_type": "code",
   "execution_count": 48,
   "id": "2c02d83c",
   "metadata": {},
   "outputs": [],
   "source": [
    "f = open('summary.txt')\n",
    "summary = json.load(f)\n",
    "\n",
    "f1 = open('osummary.txt')\n",
    "osummary = json.load(f1)  \n",
    "\n",
    "newSummary = []\n",
    "for i in File:\n",
    "    check = getText1(summary[i])\n",
    "    if check != False:\n",
    "        newSummary.append(' '.join(timMang(osummary[i], check[1])))"
   ]
  },
  {
   "cell_type": "markdown",
   "id": "42669b72",
   "metadata": {},
   "source": [
    "# Lấy dữ liệu summary 126 file sau"
   ]
  },
  {
   "cell_type": "code",
   "execution_count": 50,
   "id": "de6d12bb",
   "metadata": {},
   "outputs": [],
   "source": [
    "f = open('summaryFail.txt')\n",
    "summaryFail = json.load(f)\n",
    "\n",
    "f1 = open('osummaryFail.txt')\n",
    "osummaryFail = json.load(f1) \n",
    "\n",
    "newSummaryFileFail = []\n",
    "for i in summaryFail:\n",
    "    check = getText1(summaryFail[i])\n",
    "    if check != False:\n",
    "        newSummaryFileFail.append(' '.join(timMang(osummaryFail[i], check[1])))\n",
    "    else:\n",
    "        print(i)"
   ]
  },
  {
   "cell_type": "markdown",
   "id": "7a4222f8",
   "metadata": {},
   "source": [
    "# Lưu data"
   ]
  },
  {
   "cell_type": "code",
   "execution_count": 57,
   "id": "ea91efb4",
   "metadata": {},
   "outputs": [],
   "source": [
    "# name = File + newFile\n",
    "# f = open('data.txt',)\n",
    "# data = json.load(f)\n",
    "\n",
    "# data['name'] = name\n",
    "\n",
    "# data['summary'] += newSummaryFileFail\n",
    "\n",
    "# with open('data.txt', 'w') as convert_file:\n",
    "#      convert_file.write(json.dumps(data))"
   ]
  }
 ],
 "metadata": {
  "kernelspec": {
   "display_name": "Python 3",
   "language": "python",
   "name": "python3"
  },
  "language_info": {
   "codemirror_mode": {
    "name": "ipython",
    "version": 3
   },
   "file_extension": ".py",
   "mimetype": "text/x-python",
   "name": "python",
   "nbconvert_exporter": "python",
   "pygments_lexer": "ipython3",
   "version": "3.7.0"
  }
 },
 "nbformat": 4,
 "nbformat_minor": 5
}
